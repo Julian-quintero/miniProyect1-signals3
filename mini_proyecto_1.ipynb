{
  "nbformat": 4,
  "nbformat_minor": 0,
  "metadata": {
    "colab": {
      "provenance": [],
      "authorship_tag": "ABX9TyPdvw5vmzmW/oa11uYE4tRt",
      "include_colab_link": true
    },
    "kernelspec": {
      "name": "python3",
      "display_name": "Python 3"
    },
    "language_info": {
      "name": "python"
    }
  },
  "cells": [
    {
      "cell_type": "markdown",
      "metadata": {
        "id": "view-in-github",
        "colab_type": "text"
      },
      "source": [
        "<a href=\"https://colab.research.google.com/github/Julian-quintero/miniProyect1-signals3/blob/main/mini_proyecto_1.ipynb\" target=\"_parent\"><img src=\"https://colab.research.google.com/assets/colab-badge.svg\" alt=\"Open In Colab\"/></a>"
      ]
    },
    {
      "cell_type": "markdown",
      "source": [
        "## Mini proyecto 1\n",
        "\n",
        "**Autores:**\n",
        "- Sindy Natalia Duque Quintero.\n",
        "- Julian Andres Quintero\n",
        "\n",
        "**Tratamiento de Señales III**\n",
        "\n",
        "**Facultad de Ingeniería**\n",
        "\n",
        "**Universidad de Antioquia**"
      ],
      "metadata": {
        "id": "tHETU2Jrycch"
      }
    },
    {
      "cell_type": "code",
      "execution_count": null,
      "metadata": {
        "id": "RZ0dV722yW0p"
      },
      "outputs": [],
      "source": []
    }
  ]
}