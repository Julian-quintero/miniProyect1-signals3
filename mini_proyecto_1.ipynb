{
  "nbformat": 4,
  "nbformat_minor": 0,
  "metadata": {
    "colab": {
      "provenance": [],
      "authorship_tag": "ABX9TyO0b4T84njj/hr2H9Op34lM",
      "include_colab_link": true
    },
    "kernelspec": {
      "name": "python3",
      "display_name": "Python 3"
    },
    "language_info": {
      "name": "python"
    }
  },
  "cells": [
    {
      "cell_type": "markdown",
      "metadata": {
        "id": "view-in-github",
        "colab_type": "text"
      },
      "source": [
        "<a href=\"https://colab.research.google.com/github/Julian-quintero/miniProyect1-signals3/blob/main/mini_proyecto_1.ipynb\" target=\"_parent\"><img src=\"https://colab.research.google.com/assets/colab-badge.svg\" alt=\"Open In Colab\"/></a>"
      ]
    },
    {
      "cell_type": "markdown",
      "source": [
        "## Mini proyecto 1\n",
        "\n",
        "**Autores:**\n",
        "- Sindy Natalia Duque Quintero.\n",
        "- Julian Andres Quintero\n",
        "\n",
        "**Tratamiento de Señales III**\n",
        "\n",
        "**Facultad de Ingeniería**\n",
        "\n",
        "**Universidad de Antioquia**"
      ],
      "metadata": {
        "id": "tHETU2Jrycch"
      }
    },
    {
      "cell_type": "code",
      "execution_count": 2,
      "metadata": {
        "id": "RZ0dV722yW0p"
      },
      "outputs": [],
      "source": [
        "import scipy.io as sc\n",
        "import matplotlib.pyplot as plt\n",
        "import numpy as np\n",
        "import pandas as pd"
      ]
    },
    {
      "cell_type": "code",
      "source": [
        "# Carga de la informacion de cada persona\n",
        "datosP1 = sc.loadmat('s14.mat')\n",
        "datosP2 = sc.loadmat('s15.mat')\n",
        "datosP3 = sc.loadmat('s16.mat')\n",
        "datosP4 = sc.loadmat('s17.mat')"
      ],
      "metadata": {
        "id": "ThM-b6xHvRZ5"
      },
      "execution_count": 5,
      "outputs": []
    },
    {
      "cell_type": "code",
      "source": [
        "# Carga de datos\n",
        "\n",
        "signalP1 = datosP1['data']\n",
        "signalP2 = datosP2['data']\n",
        "signalP3 = datosP3['data']\n",
        "signalP4 = datosP4['data']\n"
      ],
      "metadata": {
        "id": "0XdIfqkDx8Xw"
      },
      "execution_count": 4,
      "outputs": []
    }
  ]
}